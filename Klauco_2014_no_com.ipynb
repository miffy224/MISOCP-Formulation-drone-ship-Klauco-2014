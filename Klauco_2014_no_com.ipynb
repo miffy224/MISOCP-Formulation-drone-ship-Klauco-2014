{
 "cells": [
  {
   "cell_type": "code",
   "execution_count": 1,
   "metadata": {},
   "outputs": [],
   "source": [
    "from gurobipy import *\n",
    "from math import *"
   ]
  },
  {
   "cell_type": "code",
   "execution_count": null,
   "metadata": {},
   "outputs": [],
   "source": []
  },
  {
   "cell_type": "code",
   "execution_count": 2,
   "metadata": {},
   "outputs": [],
   "source": [
    "\n",
    "\"\"\"\n",
    "\n",
    "Klaučo, M., Blažek, S., Kvasnica, M., & Fikar, M. (2014, June). \n",
    "Mixed-integer SOCP formulation of the path planning problem for heterogeneous multi-vehicle systems. \n",
    "In 2014 European Control Conference (ECC) (pp. 1474-1479). IEEE.\n",
    "\n",
    "https://sci-hub.tw/https://doi.org/10.1109/ECC.2014.6862400\n",
    "\n",
    "\n",
    "\"\"\"\n",
    "\n",
    "\n",
    "q=((0,0),(0,40),(0,50),(1,49),(46,50),(48,48),(46,46),(50,48),(50,35),(30,5),(30,0));\n",
    "#note:q9 in the tableI is wrong\n",
    "\n",
    "n = 10\n",
    "\n",
    "\n",
    "V_h=90\n",
    "V_c=18\n",
    "\n",
    "r=0.35\n",
    "\n",
    "qs=(0,0)\n",
    "qf=(50,0)"
   ]
  },
  {
   "cell_type": "code",
   "execution_count": null,
   "metadata": {},
   "outputs": [],
   "source": []
  },
  {
   "cell_type": "code",
   "execution_count": null,
   "metadata": {},
   "outputs": [],
   "source": []
  },
  {
   "cell_type": "code",
   "execution_count": null,
   "metadata": {},
   "outputs": [],
   "source": []
  },
  {
   "cell_type": "code",
   "execution_count": 3,
   "metadata": {},
   "outputs": [
    {
     "name": "stdout",
     "output_type": "stream",
     "text": [
      "Academic license - for non-commercial use only\n"
     ]
    }
   ],
   "source": [
    "# Create a new model\n",
    "m = Model(\"MISOCP_2014\")\n",
    "\n",
    "\n",
    "# Create variables\n",
    "Tx = {};\n",
    "Ty = {};\n",
    "lx = {};\n",
    "ly = {};\n",
    "alpha = {};\n",
    "f = {};\n",
    "s = {};\n",
    "\n",
    "\n",
    "#for SOCP\n",
    "Cx= {};\n",
    "Cy= {};\n",
    "C= {};\n",
    "\n",
    "d= {};\n",
    "\n",
    "for i in range(1, n+1):\n",
    "    Tx[i] = m.addVar(vtype = 'C',name='Tx[%s]'%i);\n",
    "    Ty[i] = m.addVar(vtype = 'C',name='Ty[%s]'%i);\n",
    "    lx[i] = m.addVar(vtype = 'C',name='lx[%s]'%i);\n",
    "    ly[i] = m.addVar(vtype = 'C',name='ly[%s]'%i);\n",
    "    for j in range(i, n+1):\n",
    "        alpha[i,j] = m.addVar(lb=0,vtype = 'B',name='alpha[%s,%s]'%(i,j));\n",
    "        f[i,j] = m.addVar(lb=0,vtype = 'C',name='f[%s,%s]'%(i,j));\n",
    "        s[i,j] = m.addVar(lb=0,vtype = 'C',name='s[%s,%s]'%(i,j));\n",
    "        d[i,j]=quicksum(sqrt( (q[k][0]-q[k+1][0])*(q[k][0]-q[k+1][0]) + (q[k][1]-q[k+1][1])*(q[k][1]-q[k+1][1]) ) for k in range(i,j));\n",
    "        \n",
    "\n",
    "\n",
    "            \n",
    "\n",
    "\n",
    "        \n",
    "# Integrate new variables\n",
    "\n",
    "m.update()\n",
    "\n",
    "\n"
   ]
  },
  {
   "cell_type": "code",
   "execution_count": 4,
   "metadata": {},
   "outputs": [],
   "source": [
    "\n",
    "# Add constraint: \n",
    "M =200\n",
    "ctr=0;\n",
    "\n",
    "for i in range(1, n+1):\n",
    "    for j in range(i,n+1):\n",
    "        \n",
    "        #C18\n",
    "        m.addConstr( f[i,j] - r <= M*(1-alpha[i,j])  ,'C.18.[%s,%s]'%(i,j));\n",
    "        \n",
    "        \n",
    "        \n",
    "        #C19a\n",
    "        \n",
    "        \n",
    "        ctr=ctr+1;\n",
    "    \n",
    "        Cx[ctr] = m.addVar(lb=-GRB.INFINITY,vtype = 'C',name='Cx.C19a.[%s,%s]'%(i,j));\n",
    "        Cy[ctr] = m.addVar(lb=-GRB.INFINITY,vtype = 'C',name='Cy.C19a.[%s,%s]'%(i,j));\n",
    "        C[ctr] = m.addVar(lb=0.0,vtype = 'C',name='C.C19a.[%s,%s]'%(i,j));\n",
    "    \n",
    "    \n",
    "        m.addConstr( Cx[ctr]  == Tx[i]-lx[j], 'C19ax.1.[%s,%s]'%(i,j)); \n",
    "        m.addConstr( Cy[ctr]  == Ty[i]-ly[j], 'C19ay.1.[%s,%s]'%(i,j));\n",
    "        m.addQConstr( Cx[ctr]*Cx[ctr] + Cy[ctr]*Cy[ctr] <=  C[ctr]*C[ctr], 'C19a.2.[%s,%s]'%(i,j));\n",
    "        m.addConstr( C[ctr]-(V_c*f[i,j])  == M*(1-alpha[i,j]), 'C19a.3.[%s,%s]'%(i,j));\n",
    "        \n",
    "    \n",
    "        \n",
    "        #C19b\n",
    "        \n",
    "        ctr=ctr+1;\n",
    "        \n",
    "        Cx[ctr] = m.addVar(lb=-GRB.INFINITY,vtype = 'C',name='Cx.C19b.1.[%s,%s]'%(i,j));\n",
    "        Cy[ctr] = m.addVar(lb=-GRB.INFINITY,vtype = 'C',name='Cy.C19b.1.[%s,%s]'%(i,j));\n",
    "        C[ctr] = m.addVar(lb=0.0,vtype = 'C',name='C.C19b.1.[%s,%s]'%(i,j));\n",
    "        \n",
    "        ctr=ctr+1;\n",
    "        \n",
    "        Cx[ctr] = m.addVar(lb=-GRB.INFINITY,vtype = 'C',name='Cx.C19b.2.[%s,%s]'%(i,j));\n",
    "        Cy[ctr] = m.addVar(lb=-GRB.INFINITY,vtype = 'C',name='Cy.C19b.2.[%s,%s]'%(i,j));\n",
    "        C[ctr] = m.addVar(lb=0.0,vtype = 'C',name='C.C19b.2.[%s,%s]'%(i,j));\n",
    "        \n",
    "        \n",
    "        m.update()\n",
    "        m.addConstr( Cx[ctr-1]  == Tx[i]-q[i][0], 'C19bx.1.1.[%s,%s]'%(i,j)); \n",
    "        m.addConstr( Cy[ctr-1]  == Ty[i]-q[i][1], 'C19by.1.1.[%s,%s]'%(i,j));\n",
    "        m.addQConstr( Cx[ctr-1]*Cx[ctr-1] + Cy[ctr-1]*Cy[ctr-1] <=  C[ctr-1]*C[ctr-1], 'C19b.2.1.[%s,%s]'%(i,j));\n",
    "        \n",
    "        \n",
    "        m.addConstr( Cx[ctr]  == lx[j]-q[j][0], 'C19bx.1.2.[%s,%s]'%(i,j)); \n",
    "        m.addConstr( Cy[ctr]  == ly[j]-q[j][1], 'C19by.1.2.[%s,%s]'%(i,j));\n",
    "        m.addQConstr( Cx[ctr]*Cx[ctr] + Cy[ctr]*Cy[ctr] <=  C[ctr]*C[ctr], 'C19b.2.2.[%s,%s]'%(i,j));\n",
    "        \n",
    "       \n",
    "\n",
    "       \n",
    "        \n",
    "        m.addConstr( C[ctr] + d[i,j]+C[ctr-1]-V_h*f[i,j] == M*(1-alpha[i,j]), 'C.19b.3.[%s,%s]'%(i,j));\n",
    "        \n",
    "        \n",
    "     \n",
    "        \n",
    "        \n",
    "for i in range(1, n+1):\n",
    "    for j in range(i,n):\n",
    "\n",
    "        #C19c\n",
    "      \n",
    "        \n",
    "        ctr=ctr+1;\n",
    "        \n",
    "        Cx[ctr] = m.addVar(lb=-GRB.INFINITY,vtype = 'C',name='Cx.C19c.[%s,%s]'%(i,j));\n",
    "        Cy[ctr] = m.addVar(lb=-GRB.INFINITY,vtype = 'C',name='Cy.C19c.[%s,%s]'%(i,j));\n",
    "        C[ctr] = m.addVar(lb=0.0,vtype = 'C',name='C19c.[%s,%s]'%(i,j));\n",
    "            \n",
    "        m.addConstr( Cx[ctr]  == lx[j]-Tx[j+1], 'C19cx.1.[%s,%s]'%(i,j)); \n",
    "        m.addConstr( Cy[ctr]  == ly[j]-Ty[j+1], 'C19cy.1.[%s,%s]'%(i,j));\n",
    "        m.addQConstr( Cx[ctr]*Cx[ctr] + Cy[ctr]*Cy[ctr] <=  C[ctr]*C[ctr], 'C19c.2.[%s,%s]'%(i,j));\n",
    "        m.addConstr( C[ctr]-(V_c*s[i,j])  == M*(1-alpha[i,j]), 'C19c.3.[%s,%s]'%(i,j));\n",
    "        \n",
    "        \n",
    "\n",
    "                 \n",
    "\n",
    "#C2\n",
    "for k in range(1, n+1):\n",
    "    m.addConstr( quicksum(quicksum(alpha[i,j] for j in range(k,n+1)) for i in range(1,k+1))  == 1, 'C2.[%s]'%k); \n",
    "\n",
    "    m.addConstr( alpha[k,k]  == 1); \n",
    "        \n",
    "\n",
    "\n",
    "        \n",
    "\n"
   ]
  },
  {
   "cell_type": "code",
   "execution_count": 5,
   "metadata": {},
   "outputs": [],
   "source": [
    "###Objective Function\n",
    "a = m.addVar(lb=0,vtype = 'C',name='a');\n",
    "b = m.addVar(lb=0,vtype = 'C',name='b');\n",
    "\n",
    "ctr=ctr+1;\n",
    "Cx[ctr] = m.addVar(lb=-GRB.INFINITY,vtype = 'C',name='nnn');\n",
    "\n",
    "\n",
    "m.addConstr( Cx[ctr] == lx[n]-qf[0], 'obj_bx');\n",
    "\n",
    "\n",
    "\n",
    "m.addQConstr( Tx[1]*Tx[1]+Ty[1]*Ty[1] <= a*a, 'obj_a');\n",
    "m.addQConstr( Cx[ctr]*Cx[ctr] + ly[n]*ly[n] <= b*b, 'obj_b');\n",
    "\n",
    "\n",
    "obj = (a+b)/V_c + quicksum(quicksum(f[i,j] for j in range(i,n+1)) for i in range(1,n+1) ) + quicksum(quicksum(s[i,j] for j in range(i,n)) for i in range(1,n+1)) \n",
    "m.setObjective(obj,GRB.MINIMIZE)"
   ]
  },
  {
   "cell_type": "code",
   "execution_count": null,
   "metadata": {},
   "outputs": [],
   "source": []
  },
  {
   "cell_type": "code",
   "execution_count": 6,
   "metadata": {},
   "outputs": [
    {
     "name": "stdout",
     "output_type": "stream",
     "text": [
      "Optimize a model with 651 rows, 838 columns and 1902 nonzeros\n",
      "Model has 212 quadratic constraints\n",
      "Variable types: 783 continuous, 55 integer (55 binary)\n",
      "Coefficient statistics:\n",
      "  Matrix range     [1e+00, 2e+02]\n",
      "  QMatrix range    [1e+00, 1e+00]\n",
      "  Objective range  [6e-02, 1e+00]\n",
      "  Bounds range     [1e+00, 1e+00]\n",
      "  RHS range        [1e+00, 2e+02]\n",
      "Presolve removed 547 rows and 573 columns\n",
      "Presolve time: 0.02s\n",
      "Presolved: 104 rows, 265 columns, 301 nonzeros\n",
      "Variable types: 265 continuous, 0 integer (0 binary)\n",
      "Presolve time: 0.04s\n",
      "Presolved: 575 rows, 438 columns, 945 nonzeros\n",
      "Presolved model has 131 second-order cone constraints\n",
      "Root barrier log...\n",
      "\n",
      "Ordering time: 0.00s\n",
      "\n",
      "Barrier statistics:\n",
      " AA' NZ     : 4.517e+03\n",
      " Factor NZ  : 1.134e+04 (roughly 1 MByte of memory)\n",
      " Factor Ops : 3.239e+05 (less than 1 second per iteration)\n",
      " Threads    : 1\n",
      "\n",
      "                  Objective                Residual\n",
      "Iter       Primal          Dual         Primal    Dual     Compl     Time\n",
      "   0   1.84080300e+04  8.16554649e+02  1.52e+03 9.79e-02  2.98e+02     0s\n",
      "   1   7.19377302e+03  2.49021123e+03  7.94e-01 5.40e-03  1.74e+01     0s\n",
      "   2   2.22122434e+03  1.44570480e+03  5.94e-02 1.15e-03  3.44e+00     0s\n",
      "   3   1.43015540e+02  1.08582283e+02  5.45e-03 1.36e-04  3.35e-01     0s\n",
      "   4   2.09400434e+01 -2.53427703e+01  1.75e-03 8.04e-06  7.65e-02     0s\n",
      "   5   8.18074561e+00 -6.08677724e+00  6.53e-04 2.71e-06  2.41e-02     0s\n",
      "   6   6.91936982e+00  5.21850792e+00  1.42e-04 2.44e-07  2.70e-03     0s\n",
      "   7   6.46770566e+00  6.33354532e+00  1.44e-05 1.46e-08  2.03e-04     0s\n",
      "   8   6.42096179e+00  6.41033405e+00  1.25e-06 7.52e-10  1.52e-05     0s\n",
      "   9   6.41803808e+00  6.41497308e+00  4.76e-07 1.45e-10  4.24e-06     0s\n",
      "  10   6.41710545e+00  6.41610691e+00  2.30e-07 9.13e-12  1.30e-06     0s\n",
      "  11   6.41630627e+00  6.41620553e+00  1.65e-08 5.76e-14  1.29e-07     0s\n",
      "\n",
      "Barrier solved model in 11 iterations and 0.11 seconds\n",
      "Optimal objective 6.41630627e+00\n",
      "\n",
      "\n",
      "Root relaxation: objective 6.416306e+00, 0 iterations, 0.08 seconds\n",
      "\n",
      "    Nodes    |    Current Node    |     Objective Bounds      |     Work\n",
      " Expl Unexpl |  Obj  Depth IntInf | Incumbent    BestBd   Gap | It/Node Time\n",
      "\n",
      "*    0     0               0       6.4163063    6.41631  0.00%     -    0s\n",
      "\n",
      "Explored 0 nodes (0 simplex iterations) in 0.13 seconds\n",
      "Thread count was 4 (of 4 available processors)\n",
      "\n",
      "Solution count 1: 6.41631 \n",
      "\n",
      "Optimal solution found (tolerance 1.00e-04)\n",
      "Best objective 6.416306265259e+00, best bound 6.416306265259e+00, gap 0.0000%\n"
     ]
    }
   ],
   "source": [
    "m.optimize()"
   ]
  },
  {
   "cell_type": "code",
   "execution_count": 7,
   "metadata": {},
   "outputs": [
    {
     "name": "stdout",
     "output_type": "stream",
     "text": [
      "t_m: 6.416306265258924 hours\n",
      "\n",
      "runtime is 0.14687013626098633 secs\n",
      "\n",
      "M: 200 \n",
      "\n",
      "Flyover no. 1 from q 1  to q 1 :\n",
      "q 1  : ( 0 ,  40 )\n",
      "\n",
      "T 1  : ( 6.175223262544328 ,  29.45877451748295 )\n",
      "l 1  : ( 7.182155343366238 ,  34.26261301419933 )\n",
      "-----\n",
      "Flyover no. 2 from q 2  to q 2 :\n",
      "q 2  : ( 0 ,  50 )\n",
      "\n",
      "T 2  : ( 7.349452220389921 ,  35.06084923239494 )\n",
      "l 2  : ( 11.093929522668294 ,  40.127270969324805 )\n",
      "-----\n",
      "Flyover no. 3 from q 3  to q 3 :\n",
      "q 3  : ( 1 ,  49 )\n",
      "\n",
      "T 3  : ( 11.09396449139643 ,  40.127283068527035 )\n",
      "l 3  : ( 17.298603355548167 ,  41.21918861880319 )\n",
      "-----\n",
      "Flyover no. 4 from q 4  to q 4 :\n",
      "q 4  : ( 46 ,  50 )\n",
      "\n",
      "T 4  : ( 29.243605316108486 ,  42.32373691996988 )\n",
      "l 4  : ( 35.54150212516445 ,  42.16307309836152 )\n",
      "-----\n",
      "Flyover no. 5 from q 5  to q 5 :\n",
      "q 5  : ( 48 ,  48 )\n",
      "\n",
      "T 5  : ( 35.54151875535874 ,  42.163067550981 )\n",
      "l 5  : ( 40.05314826963388 ,  39.987992227479296 )\n",
      "-----\n",
      "Flyover no. 6 from q 6  to q 6 :\n",
      "q 6  : ( 46 ,  46 )\n",
      "\n",
      "T 6  : ( 40.05315730247478 ,  39.987983949242505 )\n",
      "l 6  : ( 42.37104828646318 ,  37.25267109352569 )\n",
      "-----\n",
      "Flyover no. 7 from q 7  to q 7 :\n",
      "q 7  : ( 50 ,  48 )\n",
      "\n",
      "T 7  : ( 42.37105280310804 ,  37.252655893435815 )\n",
      "l 7  : ( 43.16443418963209 ,  31.002845716328352 )\n",
      "-----\n",
      "Flyover no. 8 from q 8  to q 8 :\n",
      "q 8  : ( 50 ,  35 )\n",
      "\n",
      "T 8  : ( 43.126992636648886 ,  29.47670836014407 )\n",
      "l 8  : ( 43.00347758074843 ,  24.474212654700075 )\n",
      "-----\n",
      "Flyover no. 9 from q 9  to q 9 :\n",
      "q 9  : ( 30 ,  5 )\n",
      "\n",
      "T 9  : ( 42.78979571320348 ,  15.807869225967506 )\n",
      "l 9  : ( 42.63826525020856 ,  9.669036087641533 )\n",
      "-----\n",
      "Flyover no. 10 from q 10  to q 10 :\n",
      "q 10  : ( 30 ,  0 )\n",
      "\n",
      "T 10  : ( 42.63185485964691 ,  9.408716410853208 )\n",
      "l 10  : ( 45.30714819745813 ,  3.7049712329623907 )\n",
      "-----\n"
     ]
    }
   ],
   "source": [
    "\n",
    "obj = m.getObjective()\n",
    "print(\"t_m:\",obj.getValue(),\"hours\\n\")\n",
    "print ('runtime is',m.Runtime,\"secs\\n\")\n",
    "print(\"M:\",M,\"\\n\")\n",
    "ctr=0\n",
    "for i in range(1,n+1):\n",
    "    for j in range(i,n+1):\n",
    "        if alpha[i,j].X >0.1:\n",
    "            ctr=ctr+1\n",
    "            print(\"Flyover no.\", ctr, \"from q\",i, \" to q\",j,\":\" )\n",
    "            for k in range(i,j+1):\n",
    "                print(\"q\", k,\" : (\",q[k][0],\", \", q[k][1],\")\")\n",
    "            print(\"\\nT\", i,\" : (\",Tx[i].X,\", \", Ty[i].X,\")\")\n",
    "            print(\"l\", j,\" : (\",lx[j].X,\", \", ly[j].X,\")\\n-----\")"
   ]
  },
  {
   "cell_type": "code",
   "execution_count": 16,
   "metadata": {},
   "outputs": [
    {
     "name": "stdout",
     "output_type": "stream",
     "text": [
      "t_m: 6.416306265258924 hours\n",
      "\n"
     ]
    },
    {
     "data": {
      "text/plain": [
       "<function matplotlib.pyplot.show(*args, **kw)>"
      ]
     },
     "execution_count": 16,
     "metadata": {},
     "output_type": "execute_result"
    },
    {
     "data": {
      "image/png": "[encoded data removed]",
      "text/plain": [
       "<Figure size 432x288 with 1 Axes>"
      ]
     },
     "metadata": {
      "needs_background": "light"
     },
     "output_type": "display_data"
    }
   ],
   "source": [
    "obj = m.getObjective()\n",
    "print(\"t_m:\",obj.getValue(),\"hours\\n\")\n",
    "import matplotlib.pyplot as plt\n",
    "plt.xlabel(\"x/km\")\n",
    "plt.ylabel(\"y/km\")\n",
    "\n",
    "plt.plot([Tx[1].X, qs[0]],[Ty[1].X,  qs[1]], color= 'b')\n",
    "plt.plot([lx[n].X, qf[0]],[ly[n].X,  qf[1]], color= 'b')\n",
    "\n",
    "for i in range(1,n+1):\n",
    "    plt.plot([Tx[i].X, lx[i].X],[Ty[i].X,  ly[i].X], color= 'b')\n",
    "    if i<n:\n",
    "        plt.plot([Tx[i+1].X, lx[i].X],[Ty[i+1].X,  ly[i].X], color= 'b')\n",
    "\n",
    "\n",
    "for i in range(1,n+1):\n",
    "    plt.plot([q[i][0] ,  lx[i].X] ,[q[i][1],  ly[i].X],linestyle= '--')\n",
    "    plt.plot([Tx[i].X, q[i][0]],[Ty[i].X,  q[i][1]],linestyle= '--')\n",
    "    plt.plot(q[i][0], q[i][1], marker='*',color='r')\n",
    "\n",
    "plt.plot(q[0][0], q[0][1], marker='o',color='b')\n",
    "plt.show"
   ]
  },
  {
   "cell_type": "code",
   "execution_count": null,
   "metadata": {},
   "outputs": [],
   "source": []
  },
  {
   "cell_type": "code",
   "execution_count": null,
   "metadata": {},
   "outputs": [],
   "source": []
  },
  {
   "cell_type": "code",
   "execution_count": null,
   "metadata": {},
   "outputs": [],
   "source": []
  },
  {
   "cell_type": "code",
   "execution_count": 9,
   "metadata": {},
   "outputs": [],
   "source": [
    "#m.getVars()"
   ]
  },
  {
   "cell_type": "code",
   "execution_count": 10,
   "metadata": {},
   "outputs": [],
   "source": [
    "#f"
   ]
  },
  {
   "cell_type": "code",
   "execution_count": 11,
   "metadata": {},
   "outputs": [],
   "source": [
    "#alpha"
   ]
  },
  {
   "cell_type": "code",
   "execution_count": 12,
   "metadata": {},
   "outputs": [],
   "source": [
    "#m.write(\"out.lp\")"
   ]
  },
  {
   "cell_type": "code",
   "execution_count": 13,
   "metadata": {},
   "outputs": [],
   "source": [
    "#m.computeIIS()"
   ]
  },
  {
   "cell_type": "markdown",
   "metadata": {},
   "source": [
    "status = m.status\n",
    "if status == GRB.Status.OPTIMAL:\n",
    "    for v in m.getVars():\n",
    "        print('%s %g' % (v.varName, v.x))\n",
    "    print('Obj: %g' % m.objVal)\n",
    "       \n",
    "elif status == GRB.Status.INFEASIBLE:\n",
    "    print('Optimization was stopped with status %d' % status)\n",
    "    # do IIS\n",
    "    m.computeIIS()\n",
    "    for c in m.getConstrs():\n",
    "        if c.IISConstr:\n",
    "            print('%s' % c.constrName)"
   ]
  },
  {
   "cell_type": "code",
   "execution_count": 14,
   "metadata": {},
   "outputs": [],
   "source": [
    "#m.write(\"SOCP_2014.lp\")"
   ]
  },
  {
   "cell_type": "code",
   "execution_count": 15,
   "metadata": {},
   "outputs": [],
   "source": [
    "#m.computeIIS()"
   ]
  },
  {
   "cell_type": "code",
   "execution_count": null,
   "metadata": {},
   "outputs": [],
   "source": []
  },
  {
   "cell_type": "code",
   "execution_count": null,
   "metadata": {},
   "outputs": [],
   "source": []
  },
  {
   "cell_type": "code",
   "execution_count": null,
   "metadata": {},
   "outputs": [],
   "source": [
    "\n"
   ]
  },
  {
   "cell_type": "code",
   "execution_count": null,
   "metadata": {},
   "outputs": [],
   "source": []
  }
 ],
 "metadata": {
  "kernelspec": {
   "display_name": "Python 3",
   "language": "python",
   "name": "python3"
  },
  "language_info": {
   "codemirror_mode": {
    "name": "ipython",
    "version": 3
   },
   "file_extension": ".py",
   "mimetype": "text/x-python",
   "name": "python",
   "nbconvert_exporter": "python",
   "pygments_lexer": "ipython3",
   "version": "3.6.7"
  }
 },
 "nbformat": 4,
 "nbformat_minor": 2
}
