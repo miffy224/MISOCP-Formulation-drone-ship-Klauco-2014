{
 "cells": [
  {
   "cell_type": "code",
   "execution_count": 1,
   "metadata": {},
   "outputs": [],
   "source": [
    "from gurobipy import *\n",
    "from math import *"
   ]
  },
  {
   "cell_type": "code",
   "execution_count": null,
   "metadata": {},
   "outputs": [],
   "source": []
  },
  {
   "cell_type": "code",
   "execution_count": 2,
   "metadata": {},
   "outputs": [],
   "source": [
    "\n",
    "\"\"\"\n",
    "\n",
    "Klaučo, M., Blažek, S., Kvasnica, M., & Fikar, M. (2014, June). \n",
    "Mixed-integer SOCP formulation of the path planning problem for heterogeneous multi-vehicle systems. \n",
    "In 2014 European Control Conference (ECC) (pp. 1474-1479). IEEE.\n",
    "\n",
    "https://sci-hub.tw/https://doi.org/10.1109/ECC.2014.6862400\n",
    "\n",
    "\n",
    "\"\"\"\n",
    "\n",
    "\n",
    "q=((0,0),(0,40),(0,50),(1,49),(46,50),(48,48),(46,46),(50,48),(50,35),(30,5),(30,0));\n",
    "#note:q9 in the tableI is wrong\n",
    "\n",
    "n = 10\n",
    "\n",
    "\n",
    "V_h=90\n",
    "V_c=18\n",
    "\n",
    "r=0.35\n",
    "\n",
    "qs=(0,0)\n",
    "qf=(50,0)"
   ]
  },
  {
   "cell_type": "code",
   "execution_count": null,
   "metadata": {},
   "outputs": [],
   "source": []
  },
  {
   "cell_type": "code",
   "execution_count": null,
   "metadata": {},
   "outputs": [],
   "source": []
  },
  {
   "cell_type": "code",
   "execution_count": null,
   "metadata": {},
   "outputs": [],
   "source": []
  },
  {
   "cell_type": "code",
   "execution_count": 3,
   "metadata": {},
   "outputs": [
    {
     "name": "stdout",
     "output_type": "stream",
     "text": [
      "Academic license - for non-commercial use only\n"
     ]
    }
   ],
   "source": [
    "# Create a new model\n",
    "m = Model(\"MISOCP_2014\")\n",
    "\n",
    "\n",
    "# Create variables\n",
    "Tx = {};\n",
    "Ty = {};\n",
    "lx = {};\n",
    "ly = {};\n",
    "alpha = {};\n",
    "f = {};\n",
    "s = {};\n",
    "\n",
    "\n",
    "#for SOCP\n",
    "Cx= {};\n",
    "Cy= {};\n",
    "C= {};\n",
    "\n",
    "d= {};\n",
    "\n",
    "for i in range(1, n+1):\n",
    "    Tx[i] = m.addVar(vtype = 'C',name='Tx[%s]'%i);\n",
    "    Ty[i] = m.addVar(vtype = 'C',name='Ty[%s]'%i);\n",
    "    lx[i] = m.addVar(vtype = 'C',name='lx[%s]'%i);\n",
    "    ly[i] = m.addVar(vtype = 'C',name='ly[%s]'%i);\n",
    "    for j in range(i, n+1):\n",
    "        alpha[i,j] = m.addVar(lb=0,vtype = 'B',name='alpha[%s,%s]'%(i,j));\n",
    "        f[i,j] = m.addVar(lb=0,vtype = 'C',name='f[%s,%s]'%(i,j));\n",
    "        s[i,j] = m.addVar(lb=0,vtype = 'C',name='s[%s,%s]'%(i,j));\n",
    "        d[i,j]=quicksum(sqrt( (q[k][0]-q[k+1][0])*(q[k][0]-q[k+1][0]) + (q[k][1]-q[k+1][1])*(q[k][1]-q[k+1][1]) ) for k in range(i,j));\n",
    "        \n",
    "\n",
    "\n",
    "            \n",
    "\n",
    "\n",
    "        \n",
    "# Integrate new variables\n",
    "\n",
    "m.update()\n",
    "\n",
    "\n"
   ]
  },
  {
   "cell_type": "code",
   "execution_count": 4,
   "metadata": {},
   "outputs": [],
   "source": [
    "\n",
    "# Add constraint: \n",
    "M =200\n",
    "ctr=0;\n",
    "\n",
    "for i in range(1, n+1):\n",
    "    for j in range(i,n+1):\n",
    "        \n",
    "        #C18\n",
    "        m.addConstr( f[i,j] - r <= M*(1-alpha[i,j])  ,'C.18.[%s,%s]'%(i,j));\n",
    "        \n",
    "        \n",
    "        \n",
    "        #C19a\n",
    "        \n",
    "        \n",
    "        ctr=ctr+1;\n",
    "    \n",
    "        Cx[ctr] = m.addVar(lb=-GRB.INFINITY,vtype = 'C',name='Cx.C19a.[%s,%s]'%(i,j));\n",
    "        Cy[ctr] = m.addVar(lb=-GRB.INFINITY,vtype = 'C',name='Cy.C19a.[%s,%s]'%(i,j));\n",
    "        C[ctr] = m.addVar(lb=0.0,vtype = 'C',name='C.C19a.[%s,%s]'%(i,j));\n",
    "    \n",
    "    \n",
    "        m.addConstr( Cx[ctr]  == Tx[i]-lx[j], 'C19ax.1.[%s,%s]'%(i,j)); \n",
    "        m.addConstr( Cy[ctr]  == Ty[i]-ly[j], 'C19ay.1.[%s,%s]'%(i,j));\n",
    "        m.addQConstr( Cx[ctr]*Cx[ctr] + Cy[ctr]*Cy[ctr] <=  C[ctr]*C[ctr], 'C19a.2.[%s,%s]'%(i,j));\n",
    "        m.addConstr( C[ctr]-(V_c*f[i,j])  == M*(1-alpha[i,j]), 'C19a.3.[%s,%s]'%(i,j));\n",
    "        \n",
    "    \n",
    "        \n",
    "        #C19b\n",
    "        \n",
    "        ctr=ctr+1;\n",
    "        \n",
    "        Cx[ctr] = m.addVar(lb=-GRB.INFINITY,vtype = 'C',name='Cx.C19b.1.[%s,%s]'%(i,j));\n",
    "        Cy[ctr] = m.addVar(lb=-GRB.INFINITY,vtype = 'C',name='Cy.C19b.1.[%s,%s]'%(i,j));\n",
    "        C[ctr] = m.addVar(lb=0.0,vtype = 'C',name='C.C19b.1.[%s,%s]'%(i,j));\n",
    "        \n",
    "        ctr=ctr+1;\n",
    "        \n",
    "        Cx[ctr] = m.addVar(lb=-GRB.INFINITY,vtype = 'C',name='Cx.C19b.2.[%s,%s]'%(i,j));\n",
    "        Cy[ctr] = m.addVar(lb=-GRB.INFINITY,vtype = 'C',name='Cy.C19b.2.[%s,%s]'%(i,j));\n",
    "        C[ctr] = m.addVar(lb=0.0,vtype = 'C',name='C.C19b.2.[%s,%s]'%(i,j));\n",
    "        \n",
    "        \n",
    "        m.update()\n",
    "        m.addConstr( Cx[ctr-1]  == Tx[i]-q[i][0], 'C19bx.1.1.[%s,%s]'%(i,j)); \n",
    "        m.addConstr( Cy[ctr-1]  == Ty[i]-q[i][1], 'C19by.1.1.[%s,%s]'%(i,j));\n",
    "        m.addQConstr( Cx[ctr-1]*Cx[ctr-1] + Cy[ctr-1]*Cy[ctr-1] <=  C[ctr-1]*C[ctr-1], 'C19b.2.1.[%s,%s]'%(i,j));\n",
    "        \n",
    "        \n",
    "        m.addConstr( Cx[ctr]  == lx[j]-q[j][0], 'C19bx.1.2.[%s,%s]'%(i,j)); \n",
    "        m.addConstr( Cy[ctr]  == ly[j]-q[j][1], 'C19by.1.2.[%s,%s]'%(i,j));\n",
    "        m.addQConstr( Cx[ctr]*Cx[ctr] + Cy[ctr]*Cy[ctr] <=  C[ctr]*C[ctr], 'C19b.2.2.[%s,%s]'%(i,j));\n",
    "        \n",
    "       \n",
    "\n",
    "       \n",
    "        \n",
    "        m.addConstr( C[ctr] + d[i,j]+C[ctr-1]-V_h*f[i,j] == M*(1-alpha[i,j]), 'C.19b.3.[%s,%s]'%(i,j));\n",
    "        \n",
    "        \n",
    "     \n",
    "        \n",
    "        \n",
    "for i in range(1, n+1):\n",
    "    for j in range(i,n):\n",
    "\n",
    "        #C19c\n",
    "      \n",
    "        \n",
    "        ctr=ctr+1;\n",
    "        \n",
    "        Cx[ctr] = m.addVar(lb=-GRB.INFINITY,vtype = 'C',name='Cx.C19c.[%s,%s]'%(i,j));\n",
    "        Cy[ctr] = m.addVar(lb=-GRB.INFINITY,vtype = 'C',name='Cy.C19c.[%s,%s]'%(i,j));\n",
    "        C[ctr] = m.addVar(lb=0.0,vtype = 'C',name='C19c.[%s,%s]'%(i,j));\n",
    "            \n",
    "        m.addConstr( Cx[ctr]  == lx[j]-Tx[j+1], 'C19cx.1.[%s,%s]'%(i,j)); \n",
    "        m.addConstr( Cy[ctr]  == ly[j]-Ty[j+1], 'C19cy.1.[%s,%s]'%(i,j));\n",
    "        m.addQConstr( Cx[ctr]*Cx[ctr] + Cy[ctr]*Cy[ctr] <=  C[ctr]*C[ctr], 'C19c.2.[%s,%s]'%(i,j));\n",
    "        m.addConstr( C[ctr]-(V_c*s[i,j])  == M*(1-alpha[i,j]), 'C19c.3.[%s,%s]'%(i,j));\n",
    "        \n",
    "        \n",
    "\n",
    "                 \n",
    "\n",
    "#C2\n",
    "for k in range(1, n+1):\n",
    "    m.addConstr( quicksum(quicksum(alpha[i,j] for j in range(k,n+1)) for i in range(1,k+1))  == 1, 'C2.[%s]'%k); \n",
    "        \n",
    "        \n",
    "\n",
    "\n",
    "        \n",
    "\n"
   ]
  },
  {
   "cell_type": "code",
   "execution_count": 5,
   "metadata": {},
   "outputs": [],
   "source": [
    "###Objective Function\n",
    "a = m.addVar(lb=0,vtype = 'C',name='a');\n",
    "b = m.addVar(lb=0,vtype = 'C',name='b');\n",
    "\n",
    "ctr=ctr+1;\n",
    "Cx[ctr] = m.addVar(lb=-GRB.INFINITY,vtype = 'C',name='nnn');\n",
    "\n",
    "\n",
    "m.addConstr( Cx[ctr] == lx[n]-qf[0], 'obj_bx');\n",
    "\n",
    "\n",
    "\n",
    "m.addQConstr( Tx[1]*Tx[1]+Ty[1]*Ty[1] <= a*a, 'obj_a');\n",
    "m.addQConstr( Cx[ctr]*Cx[ctr] + ly[n]*ly[n] <= b*b, 'obj_b');\n",
    "\n",
    "\n",
    "obj = (a+b)/V_c + quicksum(quicksum(f[i,j] for j in range(i,n+1)) for i in range(1,n+1) ) + quicksum(quicksum(s[i,j] for j in range(i,n)) for i in range(1,n+1)) \n",
    "m.setObjective(obj,GRB.MINIMIZE)"
   ]
  },
  {
   "cell_type": "code",
   "execution_count": null,
   "metadata": {},
   "outputs": [],
   "source": []
  },
  {
   "cell_type": "code",
   "execution_count": 6,
   "metadata": {},
   "outputs": [
    {
     "name": "stdout",
     "output_type": "stream",
     "text": [
      "Optimize a model with 641 rows, 838 columns and 1892 nonzeros\n",
      "Model has 212 quadratic constraints\n",
      "Variable types: 783 continuous, 55 integer (55 binary)\n",
      "Coefficient statistics:\n",
      "  Matrix range     [1e+00, 2e+02]\n",
      "  QMatrix range    [1e+00, 1e+00]\n",
      "  Objective range  [6e-02, 1e+00]\n",
      "  Bounds range     [1e+00, 1e+00]\n",
      "  RHS range        [1e+00, 2e+02]\n",
      "Presolve removed 369 rows and 401 columns\n",
      "Presolve time: 0.03s\n",
      "Presolved: 272 rows, 437 columns, 804 nonzeros\n",
      "Variable types: 415 continuous, 22 integer (22 binary)\n",
      "\n",
      "Root relaxation: objective 0.000000e+00, 48 iterations, 0.00 seconds\n",
      "\n",
      "    Nodes    |    Current Node    |     Objective Bounds      |     Work\n",
      " Expl Unexpl |  Obj  Depth IntInf | Incumbent    BestBd   Gap | It/Node Time\n",
      "\n",
      "     0     0    0.00000    0    8          -    0.00000      -     -    0s\n",
      "     0     0    0.00000    0   11          -    0.00000      -     -    0s\n",
      "H    0     0                       6.4162449    0.00000   100%     -    0s\n",
      "*    0     0               0       6.4162449    0.03251  99.5%     -    0s\n",
      "H    0     0                       6.3969721    0.03251  99.5%     -    0s\n",
      "     0     2    0.03251    0    7    6.39697    0.03251  99.5%     -    0s\n",
      "H   12     7                       6.3317544    0.60635  90.4%  32.0    0s\n",
      "*   12     7               7       6.3317544    0.60635  90.4%  37.4    0s\n",
      "H  139    34                       6.2518839    0.60635  90.3%  68.3    0s\n",
      "*  139    34              12       6.2518839    0.60635  90.3%  69.7    0s\n",
      "*  217    34              12       6.2517917    0.60635  90.3%  86.2    1s\n",
      "H  340    10                       6.2480350    4.92798  21.1%  85.1    1s\n",
      "*  340    10               8       6.2480350    4.92798  21.1%  86.8    1s\n",
      "\n",
      "Cutting planes:\n",
      "  Gomory: 3\n",
      "  Implied bound: 24\n",
      "  MIR: 4\n",
      "\n",
      "Explored 354 nodes (30802 simplex iterations) in 1.60 seconds\n",
      "Thread count was 4 (of 4 available processors)\n",
      "\n",
      "Solution count 6: 6.24803 6.25179 6.25188 ... 6.41624\n",
      "\n",
      "Optimal solution found (tolerance 1.00e-04)\n",
      "Warning: max constraint violation (1.9238e-06) exceeds tolerance\n",
      "Best objective 6.248034955294e+00, best bound 6.248000111971e+00, gap 0.0006%\n"
     ]
    }
   ],
   "source": [
    "m.optimize()"
   ]
  },
  {
   "cell_type": "code",
   "execution_count": 7,
   "metadata": {},
   "outputs": [
    {
     "name": "stdout",
     "output_type": "stream",
     "text": [
      "t_m: 6.248034955293704 hours\n",
      "\n",
      "runtime is 1.6141738891601562 secs\n",
      "\n",
      "M: 200 \n",
      "\n",
      "Flyover no. 1 from q 1  to q 1 :\n",
      "q 1  : ( 0 ,  40 )\n",
      "\n",
      "T 1  : ( 6.377332214822178 ,  31.113047312798805 )\n",
      "l 1  : ( 7.329914430409178 ,  35.88779513813707 )\n",
      "-----\n",
      "Flyover no. 2 from q 2  to q 3 :\n",
      "q 2  : ( 0 ,  50 )\n",
      "q 3  : ( 1 ,  49 )\n",
      "\n",
      "T 2  : ( 7.365485119695255 ,  36.06753834699945 )\n",
      "l 3  : ( 12.216277579555681 ,  40.08745261199131 )\n",
      "-----\n",
      "Flyover no. 3 from q 4  to q 6 :\n",
      "q 4  : ( 46 ,  50 )\n",
      "q 5  : ( 48 ,  48 )\n",
      "q 6  : ( 46 ,  46 )\n",
      "\n",
      "T 4  : ( 33.206596764892154 ,  40.33671006336561 )\n",
      "l 6  : ( 39.32010144325413 ,  38.815180504252986 )\n",
      "-----\n",
      "Flyover no. 4 from q 7  to q 7 :\n",
      "q 7  : ( 50 ,  48 )\n",
      "\n",
      "T 7  : ( 39.32010204079527 ,  38.81518006718392 )\n",
      "l 7  : ( 41.38865542349201 ,  32.86446088451957 )\n",
      "-----\n",
      "Flyover no. 5 from q 8  to q 8 :\n",
      "q 8  : ( 50 ,  35 )\n",
      "\n",
      "T 8  : ( 41.42709573623922 ,  32.00640830565824 )\n",
      "l 8  : ( 41.63134422934149 ,  27.490066414563795 )\n",
      "-----\n",
      "Flyover no. 6 from q 9  to q 9 :\n",
      "q 9  : ( 30 ,  5 )\n",
      "\n",
      "T 9  : ( 42.16322032930657 ,  15.823555238050243 )\n",
      "l 9  : ( 42.43673474459472 ,  9.833924184642655 )\n",
      "-----\n",
      "Flyover no. 7 from q 10  to q 10 :\n",
      "q 10  : ( 30 ,  0 )\n",
      "\n",
      "T 10  : ( 42.444718117903754 ,  9.658415175685034 )\n",
      "l 10  : ( 45.22869775507564 ,  4.0069225793393395 )\n",
      "-----\n"
     ]
    }
   ],
   "source": [
    "\n",
    "obj = m.getObjective()\n",
    "print(\"t_m:\",obj.getValue(),\"hours\\n\")\n",
    "print ('runtime is',m.Runtime,\"secs\\n\")\n",
    "print(\"M:\",M,\"\\n\")\n",
    "ctr=0\n",
    "for i in range(1,n+1):\n",
    "    for j in range(i,n+1):\n",
    "        if alpha[i,j].X >0.1:\n",
    "            ctr=ctr+1\n",
    "            print(\"Flyover no.\", ctr, \"from q\",i, \" to q\",j,\":\" )\n",
    "            for k in range(i,j+1):\n",
    "                print(\"q\", k,\" : (\",q[k][0],\", \", q[k][1],\")\")\n",
    "            print(\"\\nT\", i,\" : (\",Tx[i].X,\", \", Ty[i].X,\")\")\n",
    "            print(\"l\", j,\" : (\",lx[j].X,\", \", ly[j].X,\")\\n-----\")"
   ]
  },
  {
   "cell_type": "code",
   "execution_count": null,
   "metadata": {},
   "outputs": [],
   "source": []
  },
  {
   "cell_type": "code",
   "execution_count": null,
   "metadata": {},
   "outputs": [],
   "source": []
  },
  {
   "cell_type": "code",
   "execution_count": null,
   "metadata": {},
   "outputs": [],
   "source": []
  },
  {
   "cell_type": "code",
   "execution_count": null,
   "metadata": {},
   "outputs": [],
   "source": []
  },
  {
   "cell_type": "code",
   "execution_count": 8,
   "metadata": {},
   "outputs": [],
   "source": [
    "#m.getVars()"
   ]
  },
  {
   "cell_type": "code",
   "execution_count": 9,
   "metadata": {},
   "outputs": [],
   "source": [
    "#f"
   ]
  },
  {
   "cell_type": "code",
   "execution_count": 10,
   "metadata": {},
   "outputs": [],
   "source": [
    "#alpha"
   ]
  },
  {
   "cell_type": "code",
   "execution_count": 11,
   "metadata": {},
   "outputs": [],
   "source": [
    "#m.write(\"out.lp\")"
   ]
  },
  {
   "cell_type": "code",
   "execution_count": 12,
   "metadata": {},
   "outputs": [],
   "source": [
    "#m.computeIIS()"
   ]
  },
  {
   "cell_type": "code",
   "execution_count": null,
   "metadata": {},
   "outputs": [],
   "source": [
    "status = m.status\n",
    "if status == GRB.Status.OPTIMAL:\n",
    "    for v in m.getVars():\n",
    "        print('%s %g' % (v.varName, v.x))\n",
    "    print('Obj: %g' % m.objVal)\n",
    "       \n",
    "elif status == GRB.Status.INFEASIBLE:\n",
    "    print('Optimization was stopped with status %d' % status)\n",
    "    # do IIS\n",
    "    m.computeIIS()\n",
    "    for c in m.getConstrs():\n",
    "        if c.IISConstr:\n",
    "            print('%s' % c.constrName)"
   ]
  },
  {
   "cell_type": "code",
   "execution_count": 13,
   "metadata": {},
   "outputs": [],
   "source": [
    "#m.write(\"SOCP_2014.lp\")"
   ]
  },
  {
   "cell_type": "code",
   "execution_count": 14,
   "metadata": {},
   "outputs": [],
   "source": [
    "#m.computeIIS()"
   ]
  },
  {
   "cell_type": "code",
   "execution_count": null,
   "metadata": {},
   "outputs": [],
   "source": []
  },
  {
   "cell_type": "code",
   "execution_count": null,
   "metadata": {},
   "outputs": [],
   "source": []
  },
  {
   "cell_type": "code",
   "execution_count": null,
   "metadata": {},
   "outputs": [],
   "source": [
    "\n"
   ]
  },
  {
   "cell_type": "code",
   "execution_count": null,
   "metadata": {},
   "outputs": [],
   "source": []
  }
 ],
 "metadata": {
  "kernelspec": {
   "display_name": "Python 3",
   "language": "python",
   "name": "python3"
  },
  "language_info": {
   "codemirror_mode": {
    "name": "ipython",
    "version": 3
   },
   "file_extension": ".py",
   "mimetype": "text/x-python",
   "name": "python",
   "nbconvert_exporter": "python",
   "pygments_lexer": "ipython3",
   "version": "3.6.7"
  }
 },
 "nbformat": 4,
 "nbformat_minor": 2
}
